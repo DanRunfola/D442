{
 "metadata": {
  "language_info": {
   "codemirror_mode": {
    "name": "ipython",
    "version": 3
   },
   "file_extension": ".py",
   "mimetype": "text/x-python",
   "name": "python",
   "nbconvert_exporter": "python",
   "pygments_lexer": "ipython3",
   "version": "3.8.5-final"
  },
  "orig_nbformat": 2,
  "kernelspec": {
   "name": "python3",
   "display_name": "Python 3.8.5 64-bit ('data442': conda)",
   "metadata": {
    "interpreter": {
     "hash": "8e3a21d38ab9816cf2a4fb5b70910b2de32092d7fedca6365d5651d786256744"
    }
   }
  }
 },
 "nbformat": 4,
 "nbformat_minor": 2,
 "cells": [
  {
   "cell_type": "code",
   "execution_count": 3,
   "metadata": {},
   "outputs": [
    {
     "output_type": "stream",
     "name": "stdout",
     "text": [
      "Found 2100 images belonging to 21 classes.\n",
      "66/66 [==============================] - 3s 46ms/step - loss: 1.9787 - categorical_accuracy: 0.0575\n"
     ]
    },
    {
     "output_type": "execute_result",
     "data": {
      "text/plain": [
       "<tensorflow.python.keras.callbacks.History at 0x7fc4440dea60>"
      ]
     },
     "metadata": {},
     "execution_count": 3
    }
   ],
   "source": [
    "import keras\n",
    "\n",
    "#For this assignment, we will continue to use the UC Mercer Images Dataset.\n",
    "#Please refer back to assignment 2 for more details; it is contained in the \"mercerImages\" folder.\n",
    "\n",
    "#Let's get a quick net running with the Mercer Images Dataset, just to kick us off:\n",
    "def exampleNet():\n",
    "    m = keras.models.Sequential()\n",
    "    m.add(keras.layers.Conv2D(filters=64,\n",
    "                              kernel_size=(4,4),\n",
    "                              activation=\"tanh\",\n",
    "                              input_shape=(256,256,3)))\n",
    "    m.add(keras.layers.GlobalAveragePooling2D())\n",
    "    m.add(keras.layers.Dense(units=21))\n",
    "    m.compile(optimizer=keras.optimizers.SGD(learning_rate=.001),\n",
    "                                            loss='categorical_hinge',\n",
    "                                            metrics=['categorical_accuracy'])\n",
    "    \n",
    "    return(m)\n",
    "\n",
    "dataGenerator = keras.preprocessing.image.ImageDataGenerator()\n",
    "train = dataGenerator.flow_from_directory(\"./mercerImages\", class_mode='categorical', batch_size=32)\n",
    "    \n",
    "model = exampleNet()\n",
    "model.fit(train)\n"
   ]
  },
  {
   "cell_type": "code",
   "execution_count": 4,
   "metadata": {},
   "outputs": [
    {
     "output_type": "stream",
     "name": "stdout",
     "text": [
      "Model: \"sequential_1\"\n_________________________________________________________________\nLayer (type)                 Output Shape              Param #   \n=================================================================\nconv2d_1 (Conv2D)            (None, 253, 253, 64)      3136      \n_________________________________________________________________\nglobal_average_pooling2d_1 ( (None, 64)                0         \n_________________________________________________________________\ndense_1 (Dense)              (None, 21)                1365      \n=================================================================\nTotal params: 4,501\nTrainable params: 4,501\nNon-trainable params: 0\n_________________________________________________________________\nNone\n"
     ]
    }
   ],
   "source": [
    "print(model.summary())"
   ]
  }
 ]
}