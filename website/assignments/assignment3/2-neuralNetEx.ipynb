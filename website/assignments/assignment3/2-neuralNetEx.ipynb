{
 "metadata": {
  "language_info": {
   "codemirror_mode": {
    "name": "ipython",
    "version": 3
   },
   "file_extension": ".py",
   "mimetype": "text/x-python",
   "name": "python",
   "nbconvert_exporter": "python",
   "pygments_lexer": "ipython3",
   "version": "3.8.5-final"
  },
  "orig_nbformat": 2,
  "kernelspec": {
   "name": "python3",
   "display_name": "Python 3.8.5 64-bit",
   "metadata": {
    "interpreter": {
     "hash": "51f50e266c7ab23caab0fac38cd54d70af57c9bf1219326b71c51b1ffae23b9b"
    }
   }
  }
 },
 "nbformat": 4,
 "nbformat_minor": 2,
 "cells": [
  {
   "cell_type": "code",
   "execution_count": 1,
   "metadata": {},
   "outputs": [
    {
     "output_type": "error",
     "ename": "NameError",
     "evalue": "name 'keras' is not defined",
     "traceback": [
      "\u001b[0;31m---------------------------------------------------------------------------\u001b[0m",
      "\u001b[0;31mNameError\u001b[0m                                 Traceback (most recent call last)",
      "\u001b[0;32m<ipython-input-1-71a4f24abcf1>\u001b[0m in \u001b[0;36m<module>\u001b[0;34m\u001b[0m\n\u001b[1;32m     17\u001b[0m     \u001b[0;32mreturn\u001b[0m\u001b[0;34m(\u001b[0m\u001b[0mm\u001b[0m\u001b[0;34m)\u001b[0m\u001b[0;34m\u001b[0m\u001b[0;34m\u001b[0m\u001b[0m\n\u001b[1;32m     18\u001b[0m \u001b[0;34m\u001b[0m\u001b[0m\n\u001b[0;32m---> 19\u001b[0;31m \u001b[0mdataGenerator\u001b[0m \u001b[0;34m=\u001b[0m \u001b[0mkeras\u001b[0m\u001b[0;34m.\u001b[0m\u001b[0mpreprocessing\u001b[0m\u001b[0;34m.\u001b[0m\u001b[0mimage\u001b[0m\u001b[0;34m.\u001b[0m\u001b[0mImageDataGenerator\u001b[0m\u001b[0;34m(\u001b[0m\u001b[0;34m)\u001b[0m\u001b[0;34m\u001b[0m\u001b[0;34m\u001b[0m\u001b[0m\n\u001b[0m\u001b[1;32m     20\u001b[0m \u001b[0;34m\u001b[0m\u001b[0m\n\u001b[1;32m     21\u001b[0m \u001b[0mtrain\u001b[0m \u001b[0;34m=\u001b[0m \u001b[0mdataGenerator\u001b[0m\u001b[0;34m.\u001b[0m\u001b[0mflow_from_directory\u001b[0m\u001b[0;34m(\u001b[0m\u001b[0;34m\"./mercerImages\"\u001b[0m\u001b[0;34m,\u001b[0m \u001b[0mclass_mode\u001b[0m\u001b[0;34m=\u001b[0m\u001b[0;34m'categorical'\u001b[0m\u001b[0;34m,\u001b[0m \u001b[0mbatch_size\u001b[0m\u001b[0;34m=\u001b[0m\u001b[0;36m32\u001b[0m\u001b[0;34m)\u001b[0m\u001b[0;34m\u001b[0m\u001b[0;34m\u001b[0m\u001b[0m\n",
      "\u001b[0;31mNameError\u001b[0m: name 'keras' is not defined"
     ]
    }
   ],
   "source": [
    "import keras\n",
    "\n",
    "#For this assignment, we will continue to use the UC Mercer Images Dataset.\n",
    "#Please refer back to assignment 2 for more details; it is contained in the \"mercerImages\" folder.\n",
    "\n",
    "#Let's get a quick net running with the Mercer Images Dataset, just to kick us off:\n",
    "def q8ExampleNet():\n",
    "    m = keras.models.Sequential()\n",
    "    m.add(keras.layers.Conv2D(filters=64,\n",
    "                              kernel_size=(4,4),\n",
    "                              activation=\"tanh\",\n",
    "                              input_shape=(256,256,3)))\n",
    "    m.add(keras.layers.GlobalAveragePooling2D())\n",
    "    m.add(keras.layers.Dense(units=21))\n",
    "    m.compile(optimizer=keras.optimizers.SGD(learning_rate=.001),\n",
    "                                            loss='categorical_hinge',\n",
    "                                            metrics=['categorical_accuracy'])\n",
    "    \n",
    "    return(m)\n",
    "\n",
    "dataGenerator = keras.preprocessing.image.ImageDataGenerator()\n",
    "\n",
    "train = dataGenerator.flow_from_directory(\"./mercerImages\", class_mode='categorical', batch_size=32)\n",
    "    \n",
    "model = q8ExampleNet()\n",
    "model.fit(train)\n"
   ]
  }
 ]
}