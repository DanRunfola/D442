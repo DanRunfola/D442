{
 "metadata": {
  "language_info": {
   "codemirror_mode": {
    "name": "ipython",
    "version": 3
   },
   "file_extension": ".py",
   "mimetype": "text/x-python",
   "name": "python",
   "nbconvert_exporter": "python",
   "pygments_lexer": "ipython3",
   "version": 3
  },
  "orig_nbformat": 2
 },
 "nbformat": 4,
 "nbformat_minor": 2,
 "cells": [
  {
   "cell_type": "code",
   "execution_count": null,
   "metadata": {},
   "outputs": [],
   "source": [
    "#In practice, we need some more effective tools for looking at our\n",
    "#training accuracy, especially in respect to a validation dataset.\n",
    "#This validation dataset is something that is set aside and not used\n",
    "#in training, so we can get a fair estimate of model accuracy\n",
    "#in the context of unseen data.\n",
    "\n",
    "import keras\n",
    "\n",
    "ResNet50 = keras.applications.VGG16(classes=21, weights=None)\n",
    "ResNet50.compile(optimizer=keras.optimizers.SGD(learning_rate=.001),\n",
    "                                            loss='categorical_hinge',\n",
    "                                            metrics=['categorical_accuracy'])\n",
    "dataGenerator = keras.preprocessing.image.ImageDataGenerator()\n",
    "train = dataGenerator.flow_from_directory(\"./mercerImages\", class_mode='categorical', batch_size=32, target_size=(224,224), interpolation=\"bicubic\")\n",
    "ResNet50.fit(train, epochs=15)"
   ]
  }
 ]
}