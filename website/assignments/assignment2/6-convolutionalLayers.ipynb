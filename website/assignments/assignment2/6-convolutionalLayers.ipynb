{
 "metadata": {
  "language_info": {
   "codemirror_mode": {
    "name": "ipython",
    "version": 3
   },
   "file_extension": ".py",
   "mimetype": "text/x-python",
   "name": "python",
   "nbconvert_exporter": "python",
   "pygments_lexer": "ipython3",
   "version": 3
  },
  "orig_nbformat": 2
 },
 "nbformat": 4,
 "nbformat_minor": 2,
 "cells": [
  {
   "cell_type": "code",
   "execution_count": null,
   "metadata": {},
   "outputs": [],
   "source": [
    "#In this notebook, we're going to look at how to add convolutions into our network.\n",
    "#We'll be using this to run a convolutional network, and contrasting the convolutional\n",
    "#approach to the non-convolutonal approach we've used to date.\n",
    "\n",
    "#... (stuff)"
   ]
  }
 ]
}