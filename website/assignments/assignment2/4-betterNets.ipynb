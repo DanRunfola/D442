{
 "metadata": {
  "language_info": {
   "codemirror_mode": {
    "name": "ipython",
    "version": 3
   },
   "file_extension": ".py",
   "mimetype": "text/x-python",
   "name": "python",
   "nbconvert_exporter": "python",
   "pygments_lexer": "ipython3",
   "version": 3
  },
  "orig_nbformat": 2
 },
 "nbformat": 4,
 "nbformat_minor": 2,
 "cells": [
  {
   "cell_type": "code",
   "execution_count": null,
   "metadata": {},
   "outputs": [],
   "source": [
    "#You've now built your first neural network from scratch, but\n",
    "#the code we used was not very modular - i.e.,\n",
    "#it would be hard to add more layers,\n",
    "#swap in different activation functions,\n",
    "#and more.  So, in this notebook we're going\n",
    "#to build a more robust neural network framework\n",
    "#that we can more practically use\n",
    "#going forward.  This will become absolutely\n",
    "#necessary when we move into convolutional spaces.\n",
    "\n",
    "#Setup pieces:\n",
    "import pickle\n",
    "import numpy as np\n",
    "from IPython.display import clear_output\n",
    "from matplotlib import pyplot as plt\n",
    "import collections\n",
    "import copy\n",
    "import time\n",
    "%matplotlib inline\n",
    "\n",
    "with open(\"testTrainLab2.pickle\", \"rb\") as f:\n",
    "    labData = pickle.load(f)\n",
    "\n",
    "X_train = np.reshape(labData[\"X_train\"], (labData[\"X_train\"].shape[0], -1))\n",
    "X_test = np.reshape(labData[\"X_test\"], (labData[\"X_test\"].shape[0], -1))\n",
    "\n",
    "y_train = labData[\"y_train\"]\n",
    "y_test = labData[\"y_test\"]"
   ]
  },
  {
   "cell_type": "code",
   "execution_count": null,
   "metadata": {},
   "outputs": [],
   "source": []
  }
 ]
}