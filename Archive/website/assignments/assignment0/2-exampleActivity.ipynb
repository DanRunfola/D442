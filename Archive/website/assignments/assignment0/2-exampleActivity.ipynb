{
 "cells": [
  {
   "cell_type": "markdown",
   "metadata": {},
   "source": [
    "In this example notebook, you will learn how to write functions which \n",
    "multiply or add two numbers together.\n",
    "\n",
    "Once you have completed this notebook, you should be ready\n",
    "to finish submission.py."
   ]
  },
  {
   "cell_type": "code",
   "execution_count": 3,
   "metadata": {},
   "outputs": [
    {
     "name": "stdout",
     "output_type": "stream",
     "text": [
      "442\n",
      "223\n",
      "-219\n"
     ]
    }
   ],
   "source": [
    "#Lets write a subtraction function\n",
    "def subtract(x, y):\n",
    "    return(x - y)\n",
    "\n",
    "#What about addition???\n",
    "def add(x, y):\n",
    "    return(x + y)\n",
    "\n",
    "#Can't forget multiplication\n",
    "def multiply(x, y):\n",
    "    return(x * y)\n",
    "\n",
    "#Division is too hard.  Let's just test what we have:\n",
    "print(multiply(2,221))\n",
    "print(add(2,221))\n",
    "print(subtract(2,221))\n"
   ]
  }
 ],
 "metadata": {
  "kernelspec": {
   "display_name": "Python 3",
   "language": "python",
   "name": "python3"
  },
  "language_info": {
   "codemirror_mode": {
    "name": "ipython",
    "version": 3
   },
   "file_extension": ".py",
   "mimetype": "text/x-python",
   "name": "python",
   "nbconvert_exporter": "python",
   "pygments_lexer": "ipython3",
   "version": "3.8.5"
  }
 },
 "nbformat": 4,
 "nbformat_minor": 4
}
